{
 "cells": [
  {
   "cell_type": "code",
   "execution_count": 8,
   "id": "42a0107e",
   "metadata": {},
   "outputs": [
    {
     "name": "stdout",
     "output_type": "stream",
     "text": [
      "Using Python: d:\\downloads_from_edge\\engg123\\.venv\\Scripts\\python.exe\n"
     ]
    },
    {
     "ename": "FileNotFoundError",
     "evalue": "[WinError 2] The system cannot find the file specified",
     "output_type": "error",
     "traceback": [
      "\u001b[31m---------------------------------------------------------------------------\u001b[39m",
      "\u001b[31mFileNotFoundError\u001b[39m                         Traceback (most recent call last)",
      "\u001b[36mCell\u001b[39m\u001b[36m \u001b[39m\u001b[32mIn[8]\u001b[39m\u001b[32m, line 5\u001b[39m\n\u001b[32m      2\u001b[39m \u001b[38;5;28mprint\u001b[39m(\u001b[33m\"\u001b[39m\u001b[33mUsing Python:\u001b[39m\u001b[33m\"\u001b[39m, sys.executable)\n\u001b[32m      4\u001b[39m \u001b[38;5;66;03m# install into THIS kernel's interpreter\u001b[39;00m\n\u001b[32m----> \u001b[39m\u001b[32m5\u001b[39m \u001b[43msubprocess\u001b[49m\u001b[43m.\u001b[49m\u001b[43mcheck_call\u001b[49m\u001b[43m(\u001b[49m\u001b[43m[\u001b[49m\u001b[43msys\u001b[49m\u001b[43m.\u001b[49m\u001b[43mexecutable\u001b[49m\u001b[43m,\u001b[49m\u001b[43m \u001b[49m\u001b[33;43m\"\u001b[39;49m\u001b[33;43m-m\u001b[39;49m\u001b[33;43m\"\u001b[39;49m\u001b[43m,\u001b[49m\u001b[43m \u001b[49m\u001b[33;43m\"\u001b[39;49m\u001b[33;43mpip\u001b[39;49m\u001b[33;43m\"\u001b[39;49m\u001b[43m,\u001b[49m\u001b[43m \u001b[49m\u001b[33;43m\"\u001b[39;49m\u001b[33;43minstall\u001b[39;49m\u001b[33;43m\"\u001b[39;49m\u001b[43m,\u001b[49m\u001b[43m \u001b[49m\u001b[33;43m\"\u001b[39;49m\u001b[33;43m--upgrade\u001b[39;49m\u001b[33;43m\"\u001b[39;49m\u001b[43m,\u001b[49m\u001b[43m \u001b[49m\u001b[33;43m\"\u001b[39;49m\u001b[33;43mpip\u001b[39;49m\u001b[33;43m\"\u001b[39;49m\u001b[43m]\u001b[49m\u001b[43m)\u001b[49m\n\u001b[32m      6\u001b[39m subprocess.check_call([sys.executable, \u001b[33m\"\u001b[39m\u001b[33m-m\u001b[39m\u001b[33m\"\u001b[39m, \u001b[33m\"\u001b[39m\u001b[33mpip\u001b[39m\u001b[33m\"\u001b[39m, \u001b[33m\"\u001b[39m\u001b[33minstall\u001b[39m\u001b[33m\"\u001b[39m, \u001b[33m\"\u001b[39m\u001b[33mtorch\u001b[39m\u001b[33m\"\u001b[39m, \u001b[33m\"\u001b[39m\u001b[33mtorchvision\u001b[39m\u001b[33m\"\u001b[39m, \u001b[33m\"\u001b[39m\u001b[33mkagglehub\u001b[39m\u001b[33m\"\u001b[39m])\n\u001b[32m      8\u001b[39m \u001b[38;5;28;01mimport\u001b[39;00m\u001b[38;5;250m \u001b[39m\u001b[34;01mtorch\u001b[39;00m\n",
      "\u001b[36mFile \u001b[39m\u001b[32mC:\\Program Files\\WindowsApps\\PythonSoftwareFoundation.Python.3.13_3.13.2544.0_x64__qbz5n2kfra8p0\\Lib\\subprocess.py:414\u001b[39m, in \u001b[36mcheck_call\u001b[39m\u001b[34m(*popenargs, **kwargs)\u001b[39m\n\u001b[32m    404\u001b[39m \u001b[38;5;28;01mdef\u001b[39;00m\u001b[38;5;250m \u001b[39m\u001b[34mcheck_call\u001b[39m(*popenargs, **kwargs):\n\u001b[32m    405\u001b[39m \u001b[38;5;250m    \u001b[39m\u001b[33;03m\"\"\"Run command with arguments.  Wait for command to complete.  If\u001b[39;00m\n\u001b[32m    406\u001b[39m \u001b[33;03m    the exit code was zero then return, otherwise raise\u001b[39;00m\n\u001b[32m    407\u001b[39m \u001b[33;03m    CalledProcessError.  The CalledProcessError object will have the\u001b[39;00m\n\u001b[32m   (...)\u001b[39m\u001b[32m    412\u001b[39m \u001b[33;03m    check_call([\"ls\", \"-l\"])\u001b[39;00m\n\u001b[32m    413\u001b[39m \u001b[33;03m    \"\"\"\u001b[39;00m\n\u001b[32m--> \u001b[39m\u001b[32m414\u001b[39m     retcode = \u001b[43mcall\u001b[49m\u001b[43m(\u001b[49m\u001b[43m*\u001b[49m\u001b[43mpopenargs\u001b[49m\u001b[43m,\u001b[49m\u001b[43m \u001b[49m\u001b[43m*\u001b[49m\u001b[43m*\u001b[49m\u001b[43mkwargs\u001b[49m\u001b[43m)\u001b[49m\n\u001b[32m    415\u001b[39m     \u001b[38;5;28;01mif\u001b[39;00m retcode:\n\u001b[32m    416\u001b[39m         cmd = kwargs.get(\u001b[33m\"\u001b[39m\u001b[33margs\u001b[39m\u001b[33m\"\u001b[39m)\n",
      "\u001b[36mFile \u001b[39m\u001b[32mC:\\Program Files\\WindowsApps\\PythonSoftwareFoundation.Python.3.13_3.13.2544.0_x64__qbz5n2kfra8p0\\Lib\\subprocess.py:395\u001b[39m, in \u001b[36mcall\u001b[39m\u001b[34m(timeout, *popenargs, **kwargs)\u001b[39m\n\u001b[32m    387\u001b[39m \u001b[38;5;28;01mdef\u001b[39;00m\u001b[38;5;250m \u001b[39m\u001b[34mcall\u001b[39m(*popenargs, timeout=\u001b[38;5;28;01mNone\u001b[39;00m, **kwargs):\n\u001b[32m    388\u001b[39m \u001b[38;5;250m    \u001b[39m\u001b[33;03m\"\"\"Run command with arguments.  Wait for command to complete or\u001b[39;00m\n\u001b[32m    389\u001b[39m \u001b[33;03m    for timeout seconds, then return the returncode attribute.\u001b[39;00m\n\u001b[32m    390\u001b[39m \n\u001b[32m   (...)\u001b[39m\u001b[32m    393\u001b[39m \u001b[33;03m    retcode = call([\"ls\", \"-l\"])\u001b[39;00m\n\u001b[32m    394\u001b[39m \u001b[33;03m    \"\"\"\u001b[39;00m\n\u001b[32m--> \u001b[39m\u001b[32m395\u001b[39m     \u001b[38;5;28;01mwith\u001b[39;00m \u001b[43mPopen\u001b[49m\u001b[43m(\u001b[49m\u001b[43m*\u001b[49m\u001b[43mpopenargs\u001b[49m\u001b[43m,\u001b[49m\u001b[43m \u001b[49m\u001b[43m*\u001b[49m\u001b[43m*\u001b[49m\u001b[43mkwargs\u001b[49m\u001b[43m)\u001b[49m \u001b[38;5;28;01mas\u001b[39;00m p:\n\u001b[32m    396\u001b[39m         \u001b[38;5;28;01mtry\u001b[39;00m:\n\u001b[32m    397\u001b[39m             \u001b[38;5;28;01mreturn\u001b[39;00m p.wait(timeout=timeout)\n",
      "\u001b[36mFile \u001b[39m\u001b[32mC:\\Program Files\\WindowsApps\\PythonSoftwareFoundation.Python.3.13_3.13.2544.0_x64__qbz5n2kfra8p0\\Lib\\subprocess.py:1039\u001b[39m, in \u001b[36mPopen.__init__\u001b[39m\u001b[34m(self, args, bufsize, executable, stdin, stdout, stderr, preexec_fn, close_fds, shell, cwd, env, universal_newlines, startupinfo, creationflags, restore_signals, start_new_session, pass_fds, user, group, extra_groups, encoding, errors, text, umask, pipesize, process_group)\u001b[39m\n\u001b[32m   1035\u001b[39m         \u001b[38;5;28;01mif\u001b[39;00m \u001b[38;5;28mself\u001b[39m.text_mode:\n\u001b[32m   1036\u001b[39m             \u001b[38;5;28mself\u001b[39m.stderr = io.TextIOWrapper(\u001b[38;5;28mself\u001b[39m.stderr,\n\u001b[32m   1037\u001b[39m                     encoding=encoding, errors=errors)\n\u001b[32m-> \u001b[39m\u001b[32m1039\u001b[39m     \u001b[38;5;28;43mself\u001b[39;49m\u001b[43m.\u001b[49m\u001b[43m_execute_child\u001b[49m\u001b[43m(\u001b[49m\u001b[43margs\u001b[49m\u001b[43m,\u001b[49m\u001b[43m \u001b[49m\u001b[43mexecutable\u001b[49m\u001b[43m,\u001b[49m\u001b[43m \u001b[49m\u001b[43mpreexec_fn\u001b[49m\u001b[43m,\u001b[49m\u001b[43m \u001b[49m\u001b[43mclose_fds\u001b[49m\u001b[43m,\u001b[49m\n\u001b[32m   1040\u001b[39m \u001b[43m                        \u001b[49m\u001b[43mpass_fds\u001b[49m\u001b[43m,\u001b[49m\u001b[43m \u001b[49m\u001b[43mcwd\u001b[49m\u001b[43m,\u001b[49m\u001b[43m \u001b[49m\u001b[43menv\u001b[49m\u001b[43m,\u001b[49m\n\u001b[32m   1041\u001b[39m \u001b[43m                        \u001b[49m\u001b[43mstartupinfo\u001b[49m\u001b[43m,\u001b[49m\u001b[43m \u001b[49m\u001b[43mcreationflags\u001b[49m\u001b[43m,\u001b[49m\u001b[43m \u001b[49m\u001b[43mshell\u001b[49m\u001b[43m,\u001b[49m\n\u001b[32m   1042\u001b[39m \u001b[43m                        \u001b[49m\u001b[43mp2cread\u001b[49m\u001b[43m,\u001b[49m\u001b[43m \u001b[49m\u001b[43mp2cwrite\u001b[49m\u001b[43m,\u001b[49m\n\u001b[32m   1043\u001b[39m \u001b[43m                        \u001b[49m\u001b[43mc2pread\u001b[49m\u001b[43m,\u001b[49m\u001b[43m \u001b[49m\u001b[43mc2pwrite\u001b[49m\u001b[43m,\u001b[49m\n\u001b[32m   1044\u001b[39m \u001b[43m                        \u001b[49m\u001b[43merrread\u001b[49m\u001b[43m,\u001b[49m\u001b[43m \u001b[49m\u001b[43merrwrite\u001b[49m\u001b[43m,\u001b[49m\n\u001b[32m   1045\u001b[39m \u001b[43m                        \u001b[49m\u001b[43mrestore_signals\u001b[49m\u001b[43m,\u001b[49m\n\u001b[32m   1046\u001b[39m \u001b[43m                        \u001b[49m\u001b[43mgid\u001b[49m\u001b[43m,\u001b[49m\u001b[43m \u001b[49m\u001b[43mgids\u001b[49m\u001b[43m,\u001b[49m\u001b[43m \u001b[49m\u001b[43muid\u001b[49m\u001b[43m,\u001b[49m\u001b[43m \u001b[49m\u001b[43mumask\u001b[49m\u001b[43m,\u001b[49m\n\u001b[32m   1047\u001b[39m \u001b[43m                        \u001b[49m\u001b[43mstart_new_session\u001b[49m\u001b[43m,\u001b[49m\u001b[43m \u001b[49m\u001b[43mprocess_group\u001b[49m\u001b[43m)\u001b[49m\n\u001b[32m   1048\u001b[39m \u001b[38;5;28;01mexcept\u001b[39;00m:\n\u001b[32m   1049\u001b[39m     \u001b[38;5;66;03m# Cleanup if the child failed starting.\u001b[39;00m\n\u001b[32m   1050\u001b[39m     \u001b[38;5;28;01mfor\u001b[39;00m f \u001b[38;5;129;01min\u001b[39;00m \u001b[38;5;28mfilter\u001b[39m(\u001b[38;5;28;01mNone\u001b[39;00m, (\u001b[38;5;28mself\u001b[39m.stdin, \u001b[38;5;28mself\u001b[39m.stdout, \u001b[38;5;28mself\u001b[39m.stderr)):\n",
      "\u001b[36mFile \u001b[39m\u001b[32mC:\\Program Files\\WindowsApps\\PythonSoftwareFoundation.Python.3.13_3.13.2544.0_x64__qbz5n2kfra8p0\\Lib\\subprocess.py:1554\u001b[39m, in \u001b[36mPopen._execute_child\u001b[39m\u001b[34m(self, args, executable, preexec_fn, close_fds, pass_fds, cwd, env, startupinfo, creationflags, shell, p2cread, p2cwrite, c2pread, c2pwrite, errread, errwrite, unused_restore_signals, unused_gid, unused_gids, unused_uid, unused_umask, unused_start_new_session, unused_process_group)\u001b[39m\n\u001b[32m   1552\u001b[39m \u001b[38;5;66;03m# Start the process\u001b[39;00m\n\u001b[32m   1553\u001b[39m \u001b[38;5;28;01mtry\u001b[39;00m:\n\u001b[32m-> \u001b[39m\u001b[32m1554\u001b[39m     hp, ht, pid, tid = \u001b[43m_winapi\u001b[49m\u001b[43m.\u001b[49m\u001b[43mCreateProcess\u001b[49m\u001b[43m(\u001b[49m\u001b[43mexecutable\u001b[49m\u001b[43m,\u001b[49m\u001b[43m \u001b[49m\u001b[43margs\u001b[49m\u001b[43m,\u001b[49m\n\u001b[32m   1555\u001b[39m \u001b[43m                             \u001b[49m\u001b[38;5;66;43;03m# no special security\u001b[39;49;00m\n\u001b[32m   1556\u001b[39m \u001b[43m                             \u001b[49m\u001b[38;5;28;43;01mNone\u001b[39;49;00m\u001b[43m,\u001b[49m\u001b[43m \u001b[49m\u001b[38;5;28;43;01mNone\u001b[39;49;00m\u001b[43m,\u001b[49m\n\u001b[32m   1557\u001b[39m \u001b[43m                             \u001b[49m\u001b[38;5;28;43mint\u001b[39;49m\u001b[43m(\u001b[49m\u001b[38;5;129;43;01mnot\u001b[39;49;00m\u001b[43m \u001b[49m\u001b[43mclose_fds\u001b[49m\u001b[43m)\u001b[49m\u001b[43m,\u001b[49m\n\u001b[32m   1558\u001b[39m \u001b[43m                             \u001b[49m\u001b[43mcreationflags\u001b[49m\u001b[43m,\u001b[49m\n\u001b[32m   1559\u001b[39m \u001b[43m                             \u001b[49m\u001b[43menv\u001b[49m\u001b[43m,\u001b[49m\n\u001b[32m   1560\u001b[39m \u001b[43m                             \u001b[49m\u001b[43mcwd\u001b[49m\u001b[43m,\u001b[49m\n\u001b[32m   1561\u001b[39m \u001b[43m                             \u001b[49m\u001b[43mstartupinfo\u001b[49m\u001b[43m)\u001b[49m\n\u001b[32m   1562\u001b[39m \u001b[38;5;28;01mfinally\u001b[39;00m:\n\u001b[32m   1563\u001b[39m     \u001b[38;5;66;03m# Child is launched. Close the parent's copy of those pipe\u001b[39;00m\n\u001b[32m   1564\u001b[39m     \u001b[38;5;66;03m# handles that only the child should have open.  You need\u001b[39;00m\n\u001b[32m   (...)\u001b[39m\u001b[32m   1567\u001b[39m     \u001b[38;5;66;03m# pipe will not close when the child process exits and the\u001b[39;00m\n\u001b[32m   1568\u001b[39m     \u001b[38;5;66;03m# ReadFile will hang.\u001b[39;00m\n\u001b[32m   1569\u001b[39m     \u001b[38;5;28mself\u001b[39m._close_pipe_fds(p2cread, p2cwrite,\n\u001b[32m   1570\u001b[39m                          c2pread, c2pwrite,\n\u001b[32m   1571\u001b[39m                          errread, errwrite)\n",
      "\u001b[31mFileNotFoundError\u001b[39m: [WinError 2] The system cannot find the file specified"
     ]
    }
   ],
   "source": [
    "import sys, subprocess, pkgutil\n",
    "print(\"Using Python:\", sys.executable)\n",
    "\n",
    "# install into THIS kernel's interpreter\n",
    "subprocess.check_call([sys.executable, \"-m\", \"pip\", \"install\", \"--upgrade\", \"pip\"])\n",
    "subprocess.check_call([sys.executable, \"-m\", \"pip\", \"install\", \"torch\", \"torchvision\", \"kagglehub\"])\n",
    "\n",
    "import torch\n",
    "print(\"Torch:\", torch.__version__, \"| CUDA available:\", torch.cuda.is_available())\n"
   ]
  },
  {
   "cell_type": "code",
   "execution_count": 3,
   "id": "7db584b2",
   "metadata": {},
   "outputs": [
    {
     "name": "stdout",
     "output_type": "stream",
     "text": [
      "kagglehub successfully imported.\n"
     ]
    },
    {
     "name": "stderr",
     "output_type": "stream",
     "text": [
      "d:\\downloads_from_edge\\engg123\\.venv\\Lib\\site-packages\\tqdm\\auto.py:21: TqdmWarning: IProgress not found. Please update jupyter and ipywidgets. See https://ipywidgets.readthedocs.io/en/stable/user_install.html\n",
      "  from .autonotebook import tqdm as notebook_tqdm\n"
     ]
    }
   ],
   "source": [
    "# data_preprocessing_script.py\n",
    "# Mandatory Kaggle download → nested-folder detection → resize/augment → loaders + summary\n",
    "\n",
    "from __future__ import annotations\n",
    "import argparse\n",
    "import random\n",
    "from pathlib import Path\n",
    "from typing import List, Tuple, Optional, Dict\n",
    "\n",
    "import numpy as np\n",
    "import torch\n",
    "from torch.utils.data import DataLoader, Subset\n",
    "from torchvision import datasets, transforms\n",
    "\n",
    "# Kaggle is REQUIRED\n",
    "try:\n",
    "    import kagglehub  # pip install kagglehub\n",
    "except Exception as e:\n",
    "    raise RuntimeError(\n",
    "        \"kagglehub is required. Install with: pip install kagglehub\\n\"\n",
    "        f\"Import error: {e}\"\n",
    "    )\n",
    "\n",
    "    \n",
    "print(\"kagglehub successfully imported.\")"
   ]
  },
  {
   "cell_type": "code",
   "execution_count": 4,
   "id": "7060a8dd",
   "metadata": {},
   "outputs": [],
   "source": [
    "# Reproducibility + device pick\n",
    "# ------------------------------\n",
    "def set_seed(seed: int = 56) -> None:\n",
    "    random.seed(seed)\n",
    "    np.random.seed(seed)\n",
    "    torch.manual_seed(seed)\n",
    "    torch.cuda.manual_seed_all(seed)\n",
    "    torch.backends.cudnn.deterministic = True\n",
    "    torch.backends.cudnn.benchmark = False\n",
    "\n",
    "def pick_device() -> torch.device:\n",
    "    if torch.cuda.is_available():\n",
    "        d = torch.device(\"cuda\")\n",
    "        print(f\"[Device] CUDA: {torch.cuda.get_device_name(0)}\")\n",
    "        return d\n",
    "    if hasattr(torch.backends, \"mps\") and torch.backends.mps.is_available():\n",
    "        print(\"[Device] MPS (Apple Metal)\")\n",
    "        return torch.device(\"mps\")\n",
    "    print(\"[Device] CPU\")\n",
    "    return torch.device(\"cpu\")"
   ]
  },
  {
   "cell_type": "code",
   "execution_count": 54,
   "id": "16ad45c9",
   "metadata": {},
   "outputs": [],
   "source": [
    "# Folder discovery\n",
    "# ------------------------------\n",
    "def looks_like_class_dir(p: Path) -> bool:\n",
    "    return p.is_dir() and sum(1 for x in p.iterdir() if x.is_dir()) >= 2\n",
    "\n",
    "def find_image_root(start: Path) -> Path:\n",
    "    \"\"\"Handles layouts like <root>/images/images, else falls back to a level containing class dirs.\"\"\"\n",
    "    for c in [start / \"images\" / \"images\", start / \"images\", start]:\n",
    "        if c.exists() and looks_like_class_dir(c):\n",
    "            return c\n",
    "    for child in start.iterdir():\n",
    "        if looks_like_class_dir(child):\n",
    "            return child\n",
    "    return start"
   ]
  },
  {
   "cell_type": "code",
   "execution_count": 55,
   "id": "4954883d",
   "metadata": {},
   "outputs": [],
   "source": [
    "# Transforms\n",
    "# ------------------------------\n",
    "def build_transforms(img_size: int) -> Tuple[transforms.Compose, transforms.Compose]:\n",
    "    mean, std = [0.485, 0.456, 0.406], [0.229, 0.224, 0.225]\n",
    "    train_tf = transforms.Compose([\n",
    "        transforms.Resize(256),\n",
    "        transforms.RandomResizedCrop(img_size, scale=(0.8, 1.0)),\n",
    "        transforms.RandomHorizontalFlip(0.5),\n",
    "        transforms.ColorJitter(0.1, 0.1, 0.1, 0.03),\n",
    "        transforms.ToTensor(),\n",
    "        transforms.Normalize(mean, std),\n",
    "    ])\n",
    "    eval_tf = transforms.Compose([\n",
    "        transforms.Resize(256),\n",
    "        transforms.CenterCrop(img_size),\n",
    "        transforms.ToTensor(),\n",
    "        transforms.Normalize(mean, std),\n",
    "    ])\n",
    "    return train_tf, eval_tf"
   ]
  },
  {
   "cell_type": "code",
   "execution_count": 56,
   "id": "3500b010",
   "metadata": {},
   "outputs": [],
   "source": [
    "# Dataset utils\n",
    "# ------------------------------\n",
    "def ext_filter(only_png: bool):\n",
    "    return (lambda p: str(p).lower().endswith(\".png\")) if only_png else None\n",
    "\n",
    "def stratified_split_indices(targets: List[int], val_ratio: float, seed: int):\n",
    "    rng = np.random.default_rng(seed)\n",
    "    targets = np.array(targets)\n",
    "    tr, va = [], []\n",
    "    for c in np.unique(targets):\n",
    "        idx = np.where(targets == c)[0]\n",
    "        rng.shuffle(idx)\n",
    "        n_val = max(1, int(round(len(idx) * val_ratio)))\n",
    "        va += idx[:n_val].tolist()\n",
    "        tr += idx[n_val:].tolist()\n",
    "    rng.shuffle(tr); rng.shuffle(va)\n",
    "    return tr, va\n",
    "\n",
    "def load_from_folder(\n",
    "    data_root: Path, img_size: int, val_ratio: float, seed: int, only_png: bool,\n",
    ") -> Tuple[DataLoader, DataLoader, Optional[DataLoader], Dict]:\n",
    "    train_tf, eval_tf = build_transforms(img_size)\n",
    "    filt = ext_filter(only_png)\n",
    "\n",
    "    has_train = (data_root / \"train\").is_dir()\n",
    "    has_val   = (data_root / \"val\").is_dir()\n",
    "    has_test  = (data_root / \"test\").is_dir()\n",
    "\n",
    "    if has_train and has_val:\n",
    "        train_ds = datasets.ImageFolder(str(find_image_root(data_root / \"train\")), transform=train_tf, is_valid_file=filt)\n",
    "        val_ds   = datasets.ImageFolder(str(find_image_root(data_root / \"val\")),   transform=eval_tf,   is_valid_file=filt)\n",
    "        test_ds  = datasets.ImageFolder(str(find_image_root(data_root / \"test\")),  transform=eval_tf,   is_valid_file=filt) if has_test else None\n",
    "        classes = train_ds.classes\n",
    "    else:\n",
    "        class_root = find_image_root(data_root)\n",
    "        raw = datasets.ImageFolder(str(class_root), transform=None, is_valid_file=filt)\n",
    "        classes = raw.classes\n",
    "        targets = getattr(raw, \"targets\", [lbl for _, lbl in raw.samples])\n",
    "        tr_idx, va_idx = stratified_split_indices(targets, val_ratio, seed)\n",
    "        tr_full = datasets.ImageFolder(str(class_root), transform=train_tf, is_valid_file=filt)\n",
    "        va_full = datasets.ImageFolder(str(class_root), transform=eval_tf,  is_valid_file=filt)\n",
    "        train_ds = Subset(tr_full, tr_idx)\n",
    "        val_ds   = Subset(va_full, va_idx)\n",
    "        test_ds  = None\n",
    "\n",
    "    train_ld = DataLoader(train_ds, batch_size=64, shuffle=True,  num_workers=2, pin_memory=True)\n",
    "    val_ld   = DataLoader(val_ds,   batch_size=64, shuffle=False, num_workers=2, pin_memory=True)\n",
    "    test_ld  = DataLoader(test_ds,  batch_size=64, shuffle=False, num_workers=2, pin_memory=True) if test_ds else None\n",
    "\n",
    "    meta = {\"classes\": classes, \"img_size\": img_size}\n",
    "    return train_ld, val_ld, test_ld, meta"
   ]
  },
  {
   "cell_type": "code",
   "execution_count": 57,
   "id": "040c9f27",
   "metadata": {},
   "outputs": [],
   "source": [
    "# ------------------------------\n",
    "# Kaggle (mandatory, fixed dataset)\n",
    "# ------------------------------\n",
    "def download_kaggle_dataset() -> Path:\n",
    "    \"\"\"\n",
    "    Downloads the recyclable and household waste dataset from KaggleHub.\n",
    "    Returns the local dataset path as a Path object.\n",
    "    \"\"\"\n",
    "    import kagglehub\n",
    "    slug = \"alistairking/recyclable-and-household-waste-classification\"\n",
    "    print(f\"[Kaggle] Downloading '{slug}' ...\")\n",
    "    path = kagglehub.dataset_download(slug)\n",
    "    print(f\"[Kaggle] Downloaded to: {path}\")\n",
    "    return Path(path)"
   ]
  },
  {
   "cell_type": "code",
   "execution_count": 61,
   "id": "8e9b2726",
   "metadata": {},
   "outputs": [],
   "source": [
    "# CLI\n",
    "# ------------------------------\n",
    "def main():\n",
    "    p = argparse.ArgumentParser(description=\"Image data preprocessing with mandatory Kaggle download\")\n",
    "    p.add_argument(\"--kaggle\", type=str, required=True, help=\"Kaggle dataset slug, e.g. 'owner/dataset'\")\n",
    "    p.add_argument(\"--img-size\", type=int, default=224)\n",
    "    p.add_argument(\"--val-ratio\", type=float, default=0.1)\n",
    "    p.add_argument(\"--seed\", type=int, default=56)\n",
    "    p.add_argument(\"--png-only\", action=\"store_true\", help=\"Filter to .png images only\")\n",
    "    args = p.parse_args()\n",
    "\n",
    "    set_seed(args.seed)\n",
    "    device = torch.device(\"cuda\")  # pick_device()  # Device not used in preprocessing\n",
    "\n",
    "    dl_root = download_kaggle_dataset(args.kaggle)\n",
    "    data_root = find_image_root(dl_root)\n",
    "\n",
    "    train_ld, val_ld, test_ld, meta = load_from_folder(\n",
    "        data_root=data_root,\n",
    "        img_size=args.img_size,\n",
    "        val_ratio=args.val_ratio,\n",
    "        seed=args.seed,\n",
    "        only_png=args.png_only,\n",
    "    )\n"
   ]
  },
  {
   "cell_type": "code",
   "execution_count": 62,
   "id": "f3b7f40d",
   "metadata": {},
   "outputs": [],
   "source": [
    "# --- Summary helper (drop-in) ---\n",
    "from torch.utils.data import Subset\n",
    "\n",
    "def summarize_loaders(train_ld, val_ld, test_ld, meta, device):\n",
    "    def ds_len(obj):\n",
    "        if obj is None:\n",
    "            return 0\n",
    "        # Accept DataLoader, Dataset, or Subset\n",
    "        base = getattr(obj, \"dataset\", obj)\n",
    "        return len(base)\n",
    "\n",
    "    print(\"\\n=== DATA SUMMARY ===\")\n",
    "    print(f\"Device: {device.type.upper()}\")\n",
    "    classes = meta.get(\"classes\", [])\n",
    "    preview = classes[:10]\n",
    "    print(f\"Classes ({len(classes)}): {preview}{' ...' if len(classes) > 10 else ''}\")\n",
    "    print(f\"Train: {ds_len(train_ld)} | Val: {ds_len(val_ld)} | Test: {ds_len(test_ld)}\")\n",
    "    try:\n",
    "        # Peek one batch (won't crash if dataset is empty/corrupt)\n",
    "        xb, yb = next(iter(train_ld))\n",
    "        print(f\"Sample batch: images={tuple(xb.shape)}  labels={tuple(yb.shape)}\")\n",
    "    except Exception as e:\n",
    "        print(f\"[Warn] Could not fetch a batch: {e}\")\n",
    "    print(\"====================\\n\")\n"
   ]
  },
  {
   "cell_type": "code",
   "execution_count": 63,
   "id": "287a8707",
   "metadata": {},
   "outputs": [
    {
     "name": "stdout",
     "output_type": "stream",
     "text": [
      "[Kaggle] Downloading 'alistairking/recyclable-and-household-waste-classification' ...\n",
      "[Kaggle] Downloaded to: C:\\Users\\61459\\.cache\\kagglehub\\datasets\\alistairking\\recyclable-and-household-waste-classification\\versions\\1\n",
      "\n",
      "=== DATA SUMMARY ===\n",
      "Device: CUDA\n",
      "Classes (30): ['aerosol_cans', 'aluminum_food_cans', 'aluminum_soda_cans', 'cardboard_boxes', 'cardboard_packaging', 'clothing', 'coffee_grounds', 'disposable_plastic_cutlery', 'eggshells', 'food_waste'] ...\n",
      "Train: 12000 | Val: 3000 | Test: 0\n"
     ]
    },
    {
     "name": "stderr",
     "output_type": "stream",
     "text": [
      "c:\\Users\\61459\\anaconda3\\Lib\\site-packages\\torch\\utils\\data\\dataloader.py:666: UserWarning: 'pin_memory' argument is set as true but no accelerator is found, then device pinned memory won't be used.\n",
      "  warnings.warn(warn_msg)\n"
     ]
    },
    {
     "name": "stdout",
     "output_type": "stream",
     "text": [
      "Sample batch: images=(64, 3, 224, 224)  labels=(64,)\n",
      "====================\n",
      "\n"
     ]
    }
   ],
   "source": [
    "# ---- RUN PIPELINE IN NOTEBOOK ----\n",
    "# Settings you can tweak\n",
    "IMG_SIZE  = 224\n",
    "VAL_RATIO = 0.2\n",
    "SEED      = 56\n",
    "PNG_ONLY  = True  # set False to accept jpg/jpeg too\n",
    "\n",
    "# 1) seed + device\n",
    "set_seed(SEED)\n",
    "device = torch.device(\"cuda\")  # pick_device()  # Device not used in preprocessing\n",
    "\n",
    "# 2) download fixed Kaggle dataset (your helper takes no args)\n",
    "dl_root = download_kaggle_dataset()    # <-- uses the fixed slug inside\n",
    "data_root = find_image_root(dl_root)   # handles images/images nesting\n",
    "\n",
    "# 3) build loaders\n",
    "train_ld, val_ld, test_ld, meta = load_from_folder(\n",
    "    data_root=data_root,\n",
    "    img_size=IMG_SIZE,\n",
    "    val_ratio=VAL_RATIO,\n",
    "    seed=SEED,\n",
    "    only_png=PNG_ONLY,\n",
    ")\n",
    "\n",
    "# 4) print summary\n",
    "summarize_loaders(train_ld, val_ld, test_ld, meta, device)\n"
   ]
  }
 ],
 "metadata": {
  "kernelspec": {
   "display_name": ".venv",
   "language": "python",
   "name": "python3"
  },
  "language_info": {
   "codemirror_mode": {
    "name": "ipython",
    "version": 3
   },
   "file_extension": ".py",
   "mimetype": "text/x-python",
   "name": "python",
   "nbconvert_exporter": "python",
   "pygments_lexer": "ipython3",
   "version": "3.13.9"
  }
 },
 "nbformat": 4,
 "nbformat_minor": 5
}
