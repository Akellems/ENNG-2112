{
  "cells": [
    {
      "cell_type": "markdown",
      "metadata": {},
      "source": [
        "# Training on Unified Dataset (Merged from 3 Datasets)\n",
        "\n",
        "This notebook trains models on the merged dataset combining:\n",
        "- **Kaggle** (15,000 images, 30 fine-grained classes)\n",
        "- **Trashnet** (~2,500 images, 6 coarse classes)\n",
        "- **RealWaste** (~4,700 images, 9 medium-grained classes)\n",
        "\n",
        "Unified into **8 practical classes**:\n",
        "1. Cardboard\n",
        "2. Glass\n",
        "3. Metal\n",
        "4. Paper\n",
        "5. Plastic\n",
        "6. Organic\n",
        "7. Textile\n",
        "8. Trash\n",
        "\n",
        "**Total**: ~22,000 images for much better generalization!\n",
        "\n",
        "## Prerequisites\n",
        "1. Run `python merge_datasets.py` first to create the `merged_dataset` folder\n",
        "2. Ensure all dependencies are installed: `pip install torch torchvision timm sklearn`\n"
      ]
    }
  ],
  "metadata": {
    "language_info": {
      "name": "python"
    }
  },
  "nbformat": 4,
  "nbformat_minor": 2
}
