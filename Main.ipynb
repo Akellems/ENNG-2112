{
 "cells": [
  {
   "cell_type": "code",
   "execution_count": 1,
   "id": "8ed4ab92",
   "metadata": {},
   "outputs": [
    {
     "name": "stderr",
     "output_type": "stream",
     "text": [
      "c:\\Users\\angus\\OneDrive - The University of Sydney (Students)\\Classes\\Python\\ENGG 2112\\ML PROJECT\\ENNG-2112\\.venv\\Lib\\site-packages\\tqdm\\auto.py:21: TqdmWarning: IProgress not found. Please update jupyter and ipywidgets. See https://ipywidgets.readthedocs.io/en/stable/user_install.html\n",
      "  from .autonotebook import tqdm as notebook_tqdm\n"
     ]
    }
   ],
   "source": [
    "import os, random, time, io\n",
    "from pathlib import Path\n",
    "from typing import List\n",
    "\n",
    "import numpy as np\n",
    "import torch\n",
    "from torch import nn\n",
    "from torch.utils.data import DataLoader, Subset, Dataset\n",
    "from torchvision import datasets, transforms, models\n",
    "from sklearn.model_selection import train_test_split\n",
    "from sklearn.metrics import classification_report, f1_score, accuracy_score\n",
    "import kagglehub\n",
    "\n",
    "\n",
    "\n"
   ]
  },
  {
   "cell_type": "code",
   "execution_count": 2,
   "id": "b32d43f4",
   "metadata": {},
   "outputs": [
    {
     "name": "stdout",
     "output_type": "stream",
     "text": [
      "2.6.0+cu124\n",
      "Built with CUDA: 12.4\n",
      "CUDA available: True\n"
     ]
    }
   ],
   "source": [
    "print(torch.__version__)          # e.g., 2.x.x+cu124\n",
    "print(\"Built with CUDA:\", torch.version.cuda)\n",
    "print(\"CUDA available:\", torch.cuda.is_available())"
   ]
  },
  {
   "cell_type": "code",
   "execution_count": 22,
   "id": "ef33f047",
   "metadata": {},
   "outputs": [
    {
     "name": "stdout",
     "output_type": "stream",
     "text": [
      "Device: cpu\n"
     ]
    }
   ],
   "source": [
    "# Reproducibility + device\n",
    "SEED = 56\n",
    "random.seed(SEED)\n",
    "np.random.seed(SEED)\n",
    "torch.manual_seed(SEED)\n",
    "torch.cuda.manual_seed_all(SEED)\n",
    "torch.backends.cudnn.deterministic = True\n",
    "torch.backends.cudnn.benchmark = False\n",
    "\n",
    "device = torch.device(\"cuda\" if torch.cuda.is_available() else \"cpu\")\n",
    "print(\"Device:\", device)"
   ]
  },
  {
   "cell_type": "code",
   "execution_count": 7,
   "id": "9dd17c5d",
   "metadata": {},
   "outputs": [
    {
     "name": "stdout",
     "output_type": "stream",
     "text": [
      "Device being used: cpu\n"
     ]
    }
   ],
   "source": [
    "\n",
    "# Check if a graphics card (GPU) is available for faster training\n",
    "device = torch.device(\"cuda\" if torch.cuda.is_available() else \"cpu\")\n",
    "print(\"Device being used:\", device)"
   ]
  },
  {
   "cell_type": "code",
   "execution_count": null,
   "id": "8eb4b89b",
   "metadata": {},
   "outputs": [
    {
     "name": "stdout",
     "output_type": "stream",
     "text": [
      "Downloading dataset...\n",
      "Downloading from https://www.kaggle.com/api/v1/datasets/download/alistairking/recyclable-and-household-waste-classification?dataset_version_number=1...\n"
     ]
    },
    {
     "name": "stderr",
     "output_type": "stream",
     "text": [
      "100%|██████████| 920M/920M [01:39<00:00, 9.65MB/s] "
     ]
    },
    {
     "name": "stdout",
     "output_type": "stream",
     "text": [
      "Extracting files...\n"
     ]
    },
    {
     "name": "stderr",
     "output_type": "stream",
     "text": [
      "\n"
     ]
    },
    {
     "name": "stdout",
     "output_type": "stream",
     "text": [
      "Dataset downloaded to: C:\\Users\\angus\\.cache\\kagglehub\\datasets\\alistairking\\recyclable-and-household-waste-classification\\versions\\1\n"
     ]
    }
   ],
   "source": [
    "# Download dataset (Kaggle)\n",
    "# Dataset: alistairking/recyclable-and-household-waste-classification\n",
    "print(\"Downloading dataset...\")\n",
    "ds_path = kagglehub.dataset_download(\n",
    "    \"alistairking/recyclable-and-household-waste-classification\"\n",
    ")\n",
    "print(\"Dataset downloaded to:\", ds_path)\n"
   ]
  },
  {
   "cell_type": "code",
   "execution_count": 11,
   "id": "43f64c15",
   "metadata": {},
   "outputs": [
    {
     "name": "stdout",
     "output_type": "stream",
     "text": [
      "Image root folder found: C:\\Users\\angus\\.cache\\kagglehub\\datasets\\alistairking\\recyclable-and-household-waste-classification\\versions\\1\\images\\images\n"
     ]
    }
   ],
   "source": [
    "# Some Kaggle datasets have extra folders like \"images/images\"\n",
    "# This loop finds the real folder that contains all the image categories.\n",
    "candidates = [\n",
    "    Path(ds_path) / \"images\" / \"images\",\n",
    "    Path(ds_path) / \"images\",\n",
    "    Path(ds_path),\n",
    "]\n",
    "\n",
    "DATA_ROOT = None\n",
    "for c in candidates:\n",
    "    if c.exists() and any(d.is_dir() for d in c.iterdir()):\n",
    "        DATA_ROOT = c\n",
    "        break\n",
    "\n",
    "if DATA_ROOT is None:\n",
    "    raise FileNotFoundError(f\"Could not find image folder in: {path}\")\n",
    "\n",
    "print(\"Image root folder found:\", DATA_ROOT)"
   ]
  },
  {
   "cell_type": "code",
   "execution_count": 12,
   "id": "508c7db2",
   "metadata": {},
   "outputs": [
    {
     "name": "stdout",
     "output_type": "stream",
     "text": [
      "Classes (30): ['aerosol_cans', 'aluminum_food_cans', 'aluminum_soda_cans', 'cardboard_boxes', 'cardboard_packaging', 'clothing', 'coffee_grounds', 'disposable_plastic_cutlery', 'eggshells', 'food_waste'] ...\n",
      "Total PNG images: 15000\n"
     ]
    }
   ],
   "source": [
    "# Build full ImageFolder (PNG-only filter)\n",
    "png_only = lambda p: str(p).lower().endswith(\".png\")\n",
    "full_ds = datasets.ImageFolder(root=str(DATA_ROOT), transform=None, is_valid_file=png_only)\n",
    "class_names: List[str] = full_ds.classes\n",
    "num_classes = len(class_names)\n",
    "print(f\"Classes ({num_classes}):\", class_names[:10], \"...\" if num_classes > 10 else \"\")\n",
    "print(\"Total PNG images:\", len(full_ds.samples))"
   ]
  },
  {
   "cell_type": "code",
   "execution_count": 13,
   "id": "c0f77e42",
   "metadata": {},
   "outputs": [
    {
     "name": "stdout",
     "output_type": "stream",
     "text": [
      "Number of categories found: 30\n",
      "Example categories: ['aerosol_cans', 'aluminum_food_cans', 'aluminum_soda_cans', 'cardboard_boxes', 'cardboard_packaging', 'clothing', 'coffee_grounds', 'disposable_plastic_cutlery', 'eggshells', 'food_waste']\n"
     ]
    }
   ],
   "source": [
    "# --- Check what categories (folders) exist ---\n",
    "# Each folder inside the dataset represents one type of waste.\n",
    "class_dirs = sorted([d.name for d in DATA_ROOT.iterdir() if d.is_dir()])\n",
    "print(\"Number of categories found:\", len(class_dirs))\n",
    "print(\"Example categories:\", class_dirs[:10])"
   ]
  },
  {
   "cell_type": "code",
   "execution_count": 14,
   "id": "a6bad3d3",
   "metadata": {},
   "outputs": [],
   "source": [
    "# --- Define image transformations (resizing and data augmentation) ---\n",
    "# These changes help prepare the photos before training the model.\n",
    "\n",
    "IMG_SIZE = 224  # final image size (in pixels)\n",
    "\n",
    "# Training transformations (adds small random changes for variety)\n",
    "train_tf = transforms.Compose([\n",
    "    transforms.Resize((256, 256)),             # make all images similar size\n",
    "    transforms.RandomResizedCrop(IMG_SIZE,     # randomly crop and resize\n",
    "                                 scale=(0.8, 1.0),\n",
    "                                 ratio=(0.9, 1.1)),\n",
    "    transforms.RandomHorizontalFlip(),         # randomly flip images left-right\n",
    "    transforms.RandomRotation(10),             # rotate slightly (±10°)\n",
    "    transforms.ColorJitter(                    # small colour adjustments\n",
    "        brightness=0.10, contrast=0.10, saturation=0.10, hue=0.05),\n",
    "    transforms.ToTensor(),                     # turn image into numeric array\n",
    "    transforms.Normalize(mean=[0.485, 0.456, 0.406],  # standard colour scaling\n",
    "                         std=[0.229, 0.224, 0.225]),\n",
    "])\n"
   ]
  },
  {
   "cell_type": "code",
   "execution_count": 15,
   "id": "70c172e3",
   "metadata": {},
   "outputs": [],
   "source": [
    "# Validation/testing transformations (simpler, no random changes)\n",
    "eval_tf = transforms.Compose([\n",
    "    transforms.Resize((256, 256)),\n",
    "    transforms.CenterCrop(IMG_SIZE),\n",
    "    transforms.ToTensor(),\n",
    "    transforms.Normalize(mean=[0.485, 0.456, 0.406],\n",
    "                         std=[0.229, 0.224, 0.225]),\n",
    "])\n",
    "\n",
    "# Filter function: only include .png or .PNG images\n",
    "png_only = lambda p: str(p).lower().endswith(\".png\")"
   ]
  },
  {
   "cell_type": "code",
   "execution_count": 16,
   "id": "7fc9e55e",
   "metadata": {},
   "outputs": [],
   "source": [
    "# --- Load the dataset ---\n",
    "# Organises images into labelled groups using their folder names.\n",
    "full_ds = datasets.ImageFolder(\n",
    "    root=str(DATA_ROOT),\n",
    "    transform=None,          # we'll apply transforms later\n",
    "    is_valid_file=png_only   # only include PNG files\n",
    ")\n"
   ]
  },
  {
   "cell_type": "code",
   "execution_count": 17,
   "id": "0e732792",
   "metadata": {},
   "outputs": [
    {
     "name": "stdout",
     "output_type": "stream",
     "text": [
      "Total number of categories: 30\n",
      "First few category names: ['aerosol_cans', 'aluminum_food_cans', 'aluminum_soda_cans', 'cardboard_boxes', 'cardboard_packaging', 'clothing', 'coffee_grounds', 'disposable_plastic_cutlery', 'eggshells', 'food_waste']\n",
      "Total number of images: 15000\n"
     ]
    }
   ],
   "source": [
    "# Print a quick summary\n",
    "num_classes = len(full_ds.classes)\n",
    "print(f\"Total number of categories: {num_classes}\")\n",
    "print(\"First few category names:\", full_ds.classes[:10])\n",
    "print(\"Total number of images:\", len(full_ds.samples))"
   ]
  }
 ],
 "metadata": {
  "kernelspec": {
   "display_name": ".venv",
   "language": "python",
   "name": "python3"
  },
  "language_info": {
   "codemirror_mode": {
    "name": "ipython",
    "version": 3
   },
   "file_extension": ".py",
   "mimetype": "text/x-python",
   "name": "python",
   "nbconvert_exporter": "python",
   "pygments_lexer": "ipython3",
   "version": "3.13.3"
  }
 },
 "nbformat": 4,
 "nbformat_minor": 5
}
